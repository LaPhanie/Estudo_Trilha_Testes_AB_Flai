{
  "nbformat": 4,
  "nbformat_minor": 0,
  "metadata": {
    "colab": {
      "name": "Aulas_4_Intro_Intervalos_de_Confiança.ipynb",
      "provenance": [],
      "collapsed_sections": [],
      "include_colab_link": true
    },
    "kernelspec": {
      "name": "python3",
      "display_name": "Python 3"
    },
    "language_info": {
      "name": "python"
    }
  },
  "cells": [
    {
      "cell_type": "markdown",
      "metadata": {
        "id": "view-in-github",
        "colab_type": "text"
      },
      "source": [
        "<a href=\"https://colab.research.google.com/github/LaPhanie/Estudo_Trilha_Testes_AB_Flai/blob/main/Aulas_4_Intro_Intervalos_de_Confian%C3%A7a.ipynb\" target=\"_parent\"><img src=\"https://colab.research.google.com/assets/colab-badge.svg\" alt=\"Open In Colab\"/></a>"
      ]
    },
    {
      "cell_type": "markdown",
      "metadata": {
        "id": "1WX_4kP3EmWz"
      },
      "source": [
        "# **Intervalos de Confiança**\n",
        "\n",
        "Este notebook de estudo refere-se as aulas 4.1, 4.2 e 4.3 da Trilha de Aprofundamente \"Testes AB\", do curso Dominando Data Science da Flai.\n",
        "https://www.flai.com.br/"
      ]
    },
    {
      "cell_type": "markdown",
      "metadata": {
        "id": "vVO9J5_gCAg-"
      },
      "source": [
        "# Exemplo 1 - População com Distribuição Normal com variância conhecida (Aula 4.1)\n",
        "\n",
        "A experiência com trabalhadores de certa indústria indica que o tempo necessário para que um trabalhador, aleatoriamente selecionado, realize uma determinada tarefa é aproximadamente normal, com desvio-padrão de aproximadamente 12 min.\n",
        "\n",
        "Uma amostra aleatória de 25 trabalhadores forneceu **$\\overline{x} = 140 min$**.\n",
        "\n",
        "Determine os limites de confiança de 99% para a média **$\\mu$** da população de todos os trabalhos que fazem este determinado serviço."
      ]
    },
    {
      "cell_type": "markdown",
      "metadata": {
        "id": "mQCz2wYBHB5o"
      },
      "source": [
        "## Solução:\n",
        "Neste exemplo podemos assumir a distribuição da populção como normal.\n",
        "\n",
        "Também conhecemos o desvio-padrão **$\\sigma^2 \\ = \\ 12 \\ min$**. \n",
        "\n",
        "Logo, a variância **$\\sigma \\ = \\ \\sqrt{12} \\ min$**.\n",
        "\n",
        "Se o limite de confiança é de 99%, **$\\alpha = 1 - 0.99 \\ = \\ 0.01$**. Logo, \n",
        "**$z_\\frac{\\alpha}{2} = 0.005$**.\n",
        "\n",
        "Para este caso, o intervalo de confiança é dado por:\n",
        "\n",
        "$$\n",
        "\\left[\\ \\bar{x} - z_\\frac{\\alpha}{2} \\frac{\\sigma_0}{\\sqrt{n}},\\ \\bar{x} + z_\\frac{\\alpha}{2} \\frac{\\sigma_0}{\\sqrt{n}}    \\right]\n",
        "$$\n"
      ]
    },
    {
      "cell_type": "code",
      "metadata": {
        "id": "3VOYAUGkyvkr"
      },
      "source": [
        "# Importando Bibliotecas\n",
        "import scipy.stats as ss\n",
        "import numpy as np"
      ],
      "execution_count": 1,
      "outputs": []
    },
    {
      "cell_type": "code",
      "metadata": {
        "colab": {
          "base_uri": "https://localhost:8080/"
        },
        "id": "zEZfFq_ihSOD",
        "outputId": "0cc98e2c-5254-4251-a296-5db92dc1e007"
      },
      "source": [
        "z_alpha_2 = ss.norm.ppf(0.995)\n",
        "x_médio = 140\n",
        "desvpad = 12\n",
        "n = 25\n",
        "# Calculando os Intervals de Confiança (IC)\n",
        "\n",
        "IC_inf = x_médio - (z_alpha_2*desvpad/np.sqrt(n)).round(2)\n",
        "IC_sup = x_médio + (z_alpha_2*desvpad/np.sqrt(n)).round(2)\n",
        "\n",
        "print('O intervalo de confiança de 99% é dado por [{}, {}].'.format(IC_inf, IC_sup))"
      ],
      "execution_count": null,
      "outputs": [
        {
          "output_type": "stream",
          "text": [
            "O intervalo de confiança de 99% é dado por [133.82, 146.18].\n"
          ],
          "name": "stdout"
        }
      ]
    },
    {
      "cell_type": "markdown",
      "metadata": {
        "id": "gpkeZ6CbLzmI"
      },
      "source": [
        "**Notas sobre o método ( ).ppf**\n",
        "\n",
        "O método ppf (percent point function), calcula o percentil. Isto é, calcula a distribuição acumulada até um determinado ponto da curva de distribuição de probabilidade."
      ]
    },
    {
      "cell_type": "code",
      "metadata": {
        "id": "Gr4ewePzG_Iy",
        "colab": {
          "base_uri": "https://localhost:8080/"
        },
        "outputId": "9268d891-5576-4bd8-a872-30b02b516762"
      },
      "source": [
        "# Entrada: quantil. Saída: Ponto no qual o percentil (quantil) é atingido.\n",
        "ss.norm.ppf(0.5)\n",
        "# 0.5 da distribuição acumalada completa-se em z = 0."
      ],
      "execution_count": null,
      "outputs": [
        {
          "output_type": "execute_result",
          "data": {
            "text/plain": [
              "0.0"
            ]
          },
          "metadata": {},
          "execution_count": 2
        }
      ]
    },
    {
      "cell_type": "code",
      "metadata": {
        "colab": {
          "base_uri": "https://localhost:8080/"
        },
        "id": "egtCjRSZcu2O",
        "outputId": "8193b618-d381-47d0-d501-5f60c99a4b5c"
      },
      "source": [
        "# Encontra os pontos nos quais os percentis são iguais a 0.005 e 0.995\n",
        "# 0.995 é o finzinho da cauda da distribuição de probabilidades\n",
        "\n",
        "ss.norm.ppf([0.005, 1-0.005])"
      ],
      "execution_count": null,
      "outputs": [
        {
          "output_type": "execute_result",
          "data": {
            "text/plain": [
              "array([-2.5758293,  2.5758293])"
            ]
          },
          "metadata": {},
          "execution_count": 3
        }
      ]
    },
    {
      "cell_type": "code",
      "metadata": {
        "colab": {
          "base_uri": "https://localhost:8080/"
        },
        "id": "xzQRbHQnlrKX",
        "outputId": "8c899d46-c6f4-40f9-de26-0c8b4e198e6f"
      },
      "source": [
        "ss.norm.ppf(0.995)"
      ],
      "execution_count": null,
      "outputs": [
        {
          "output_type": "execute_result",
          "data": {
            "text/plain": [
              "2.5758293035489004"
            ]
          },
          "metadata": {},
          "execution_count": 4
        }
      ]
    },
    {
      "cell_type": "markdown",
      "metadata": {
        "id": "TMbqxHe9eFxP"
      },
      "source": [
        "## Função: IC_Normal_SigmaConhecida()\n",
        "\n",
        "Refatorando o código acima para torná-lo mais genérico."
      ]
    },
    {
      "cell_type": "code",
      "metadata": {
        "colab": {
          "base_uri": "https://localhost:8080/"
        },
        "id": "Tc0S-fcqfOli",
        "outputId": "8ef03027-7ad8-4f20-d5fd-e5cacf7fec2b"
      },
      "source": [
        "print(\n",
        "'Olá, \\nEste código calcucla o intervalo de confiança para a média de' \n",
        "'uma variável aleatória (VA) nos seguintes casos:'\n",
        "'\\n1. VA com distribuição normal e variância cohecida;'\n",
        "'\\n2. VA com distribuição não normal em amostras grandes (n >30).'\n",
        ")"
      ],
      "execution_count": null,
      "outputs": [
        {
          "output_type": "stream",
          "text": [
            "Olá, \n",
            "Este código calcucla o intervalo de confiança para a média deuma variável aleatória (VA) nos seguintes casos:\n",
            "1. VA com distribuição normal e variância cohecida;\n",
            "2. VA com distribuição não normal em amostras grandes (n >30).\n"
          ],
          "name": "stdout"
        }
      ]
    },
    {
      "cell_type": "code",
      "metadata": {
        "colab": {
          "base_uri": "https://localhost:8080/"
        },
        "id": "6JpqYZSHHVUN",
        "outputId": "22b9a662-2622-4c25-b054-0d5d21d268df"
      },
      "source": [
        "def IC_Normal_SigmaConhecida():\n",
        "\n",
        "  print(\n",
        "  'Olá, \\nEste código calcucla o intervalo de confiança para a média de' \n",
        "  'uma variável aleatória (VA) \\nnos seguintes casos:'\n",
        "  '\\n1. VA com distribuição normal e variância cohecida;'\n",
        "  '\\n2. VA com distribuição não normal em amostras grandes (n >30).'\n",
        "  )\n",
        "  print()\n",
        "\n",
        "  grau_conf = float(input(\"Digite o grau de confiança desejado em porcentagem: \"))\n",
        "  x_médio = float(input('Digite a média da amostra: '))\n",
        "  desvpad = float(input ('Digite o desvio-padrão populacional: '))\n",
        "  n = float(input('Digite o tamanho da amostra: '))\n",
        "\n",
        "  alpha_2 = 1 - (1 - (grau_conf/100))/2\n",
        "  z_alpha_2 = ss.norm.ppf(alpha_2)\n",
        "\n",
        "  IC_inf = (x_médio - (z_alpha_2*desvpad/np.sqrt(n))).round(2)\n",
        "  IC_sup = (x_médio + (z_alpha_2*desvpad/np.sqrt(n))).round(2)\n",
        "\n",
        "  print()\n",
        "  print('O intervalo de confiança de {}% é dado por [{}, {}].'.format(grau_conf, IC_inf, IC_sup))\n",
        "  \n",
        "IC_Normal_SigmaConhecida()  "
      ],
      "execution_count": null,
      "outputs": [
        {
          "output_type": "stream",
          "text": [
            "Olá, \n",
            "Este código calcucla o intervalo de confiança para a média deuma variável aleatória (VA) \n",
            "nos seguintes casos:\n",
            "1. VA com distribuição normal e variância cohecida;\n",
            "2. VA com distribuição não normal em amostras grandes (n >30).\n",
            "\n",
            "Digite o grau de confiança desejado em porcentagem: 99\n",
            "Digite a média da amostra: 140\n",
            "Digite o desvio-padrão populacional: 12\n",
            "Digite o tamanho da amostra: 25\n",
            "\n",
            "O intervalo de confiança de 99.0% é dado por [133.82, 146.18].\n"
          ],
          "name": "stdout"
        }
      ]
    },
    {
      "cell_type": "markdown",
      "metadata": {
        "id": "50pboZX2Xq76"
      },
      "source": [
        "## Exemplo 2 - População com Distribuição Normal e Variância NÃO conhecida (Aula 4.2)\n",
        "Deseja-se estimar o lucro médio mensal de uma empresa. \n",
        "Observou-se uma amostar aleatória de 25 meses, cujos resultados foram:\n",
        "\n",
        "*   lucro médio: 4.370,00;\n",
        "*   desvio-padrão: 418,00.\n",
        "\n",
        "Sabe-se que o lucro mensal comporta-se como uma distribuição normal.\n",
        "Encontre o intervalo de confiança para o lucro médio real, com uma confiança de 90%."
      ]
    },
    {
      "cell_type": "markdown",
      "metadata": {
        "id": "8x7amgooYoyE"
      },
      "source": [
        "### Solução:\n",
        "\n",
        "A amostra possui tamanho $n \\ = \\ 25$, isto é, $<\\ 30$, e não conhecemos a variância populacional, apenas a amostral. Portanto precisamos usar a distribuição T-Student.\n",
        "\n",
        "$\\bar{x} \\ = \\ 4370;$\n",
        "\n",
        "$S \\ = \\ 418;$\n",
        "\n",
        "$Confiança \\ = \\ 90%$\n",
        "\n",
        "$\\frac{\\alpha}{2} = (1 - 0.9)/2 \\ = 0.05$\n",
        "\n",
        "Para este caso o Intervalo de Confiança é dado por:\n",
        "\n",
        "$$\n",
        "\\left[\\ \\bar{x} - t_{n-1;\\frac{\\alpha}{2}} \\frac{S}{\\sqrt{n}},\\ \\bar{x} + t_{n-1;\\frac{\\alpha}{2}} \\frac{S}{\\sqrt{n}} \\right]\n",
        "$$\n"
      ]
    },
    {
      "cell_type": "code",
      "metadata": {
        "id": "kQwznj2YjqDq"
      },
      "source": [
        ""
      ],
      "execution_count": null,
      "outputs": []
    },
    {
      "cell_type": "markdown",
      "metadata": {
        "id": "hvTqFPImj2SU"
      },
      "source": [
        "##Função: IC_Normal_SigmaDesconhecida()\n"
      ]
    },
    {
      "cell_type": "code",
      "metadata": {
        "colab": {
          "base_uri": "https://localhost:8080/"
        },
        "id": "7bYbbYYq7UGg",
        "outputId": "e946a281-6505-40c3-b852-b104527800fd"
      },
      "source": [
        "def IC_Normal_SigmaDesconhecida():\n",
        "\n",
        "  print(\n",
        "  'Olá, \\nEste código calcula o intervalo de confiança para a média de' \n",
        "  'uma variável aleatória (VA) \\nno seguinte caso:'\n",
        "  '\\nVA com distribuição normal e variância populacional não conhecida.'\n",
        "  )\n",
        "  print()\n",
        "\n",
        "  grau_conf = float(input(\"Digite o grau de confiança desejado em porcentagem: \"))\n",
        "  x_médio = float(input('Digite a média da amostra: '))\n",
        "  desvpad_am = float(input ('Digite o desvio-padrão amostral: '))\n",
        "  n = float(input('Digite o tamanho da amostra: '))\n",
        "\n",
        "  alpha_2 = 1 - (1 - (grau_conf/100))/2\n",
        "  \n",
        "  # Calcula o ponto em que a acumulada é igual a alpha_2\n",
        "\n",
        "  # A PPF de T requer dois argumentos: o valor da acumulada,\n",
        "  # e o número de graus de liberdade (df: degrees of freedom)\n",
        "  t_alpha_2 = ss.t.ppf(alpha_2, df = n-1 )\n",
        "\n",
        "  IC_inf = (x_médio - (t_alpha_2*desvpad_am/np.sqrt(n))).round(2)\n",
        "  IC_sup = (x_médio + (t_alpha_2*desvpad_am/np.sqrt(n))).round(2)\n",
        "\n",
        "  print()\n",
        "  print('O intervalo de confiança de {}% é dado por [{}, {}].'.format(grau_conf, IC_inf, IC_sup))\n",
        "  \n",
        "IC_Normal_SigmaDesconhecida()  \n"
      ],
      "execution_count": null,
      "outputs": [
        {
          "output_type": "stream",
          "text": [
            "Olá, \n",
            "Este código calcula o intervalo de confiança para a média deuma variável aleatória (VA) \n",
            "no seguinte caso:\n",
            "VA com distribuição normal e variância populacional não conhecida.\n",
            "\n",
            "Digite o grau de confiança desejado em porcentagem: 90\n",
            "Digite a média da amostra: 4370\n",
            "Digite o desvio-padrão amostral: 418\n",
            "Digite o tamanho da amostra: 25\n",
            "\n",
            "O intervalo de confiança de 90.0% é dado por [4226.97, 4513.03].\n"
          ],
          "name": "stdout"
        }
      ]
    },
    {
      "cell_type": "code",
      "metadata": {
        "colab": {
          "base_uri": "https://localhost:8080/"
        },
        "id": "JTEkFtXTkiWk",
        "outputId": "41b6ce29-5f25-41c2-db85-f4294b66ea6b"
      },
      "source": [
        "IC_Normal_SigmaDesconhecida()"
      ],
      "execution_count": null,
      "outputs": [
        {
          "output_type": "stream",
          "text": [
            "Olá, \n",
            "Este código calcula o intervalo de confiança para a média deuma variável aleatória (VA) \n",
            "no seguinte caso:\n",
            "VA com distribuição normal e variância populacional não conhecida.\n",
            "\n",
            "Digite o grau de confiança desejado em porcentagem: 99\n",
            "Digite a média da amostra: 4370\n",
            "Digite o desvio-padrão amostral: 418\n",
            "Digite o tamanho da amostra: 25\n",
            "\n",
            "O intervalo de confiança de 99.0% é dado por [4136.18, 4603.82].\n"
          ],
          "name": "stdout"
        }
      ]
    },
    {
      "cell_type": "markdown",
      "metadata": {
        "id": "SVWvwEDIrZYS"
      },
      "source": [
        "## Exemplo 3 - Distribuição NÃO Normal, grandes amostras.\n",
        "\n",
        "Um fabricante deseja saber a estimativa intervalar para o tempo de vida útil médio das lâmpadas que produz, com um grau de confiança de 95%.\n",
        "\n",
        "Para obter esta estimativa, tomou uma amostra aleatória de 400 lâmpadas que fabrica, obtendo vida média de 1000 horas com desvio padrão de 200 horas."
      ]
    },
    {
      "cell_type": "markdown",
      "metadata": {
        "id": "A07E9JEGtKpz"
      },
      "source": [
        "### Solução:\n",
        "\n",
        "Neste caso, não se conhecem a variância nem a distribuição populacional, porém a amostra é suficientemente grande, para que a distribuição das médias amostrais convirjam para a distribuição normal.\n",
        "\n",
        "Logo, o I.C. para a **verdadeira** méida populacional $\\mu$ é dado por:\n",
        "\n",
        "$$\n",
        "\\left[\\ \\bar{x} - z_\\frac{\\alpha}{2} \\frac{S}{\\sqrt{n}},\\ \\bar{x} + z_\\frac{\\alpha}{2} \\frac{S}{\\sqrt{n}}    \\right]\n",
        "$$\n",
        "\n",
        "Assim podemos usar a função **IC_Normal_SigmaConhecida()** para calcular o Intervalo de Confiança."
      ]
    },
    {
      "cell_type": "code",
      "metadata": {
        "colab": {
          "base_uri": "https://localhost:8080/"
        },
        "id": "WjGlFYsbvonP",
        "outputId": "4f07202c-18cc-4b9f-e9aa-78b63c845d1b"
      },
      "source": [
        "IC_Normal_SigmaConhecida()"
      ],
      "execution_count": null,
      "outputs": [
        {
          "output_type": "stream",
          "text": [
            "Olá, \n",
            "Este código calcucla o intervalo de confiança para a média deuma variável aleatória (VA) \n",
            "nos seguintes casos:\n",
            "1. VA com distribuição normal e variância cohecida;\n",
            "2. VA com distribuição não normal em amostras grandes (n >30).\n",
            "\n",
            "Digite o grau de confiança desejado em porcentagem: 95\n",
            "Digite a média da amostra: 1000\n",
            "Digite o desvio-padrão populacional: 200\n",
            "Digite o tamanho da amostra: 400\n",
            "\n",
            "O intervalo de confiança de 95.0% é dado por [980.4, 1019.6].\n"
          ],
          "name": "stdout"
        }
      ]
    },
    {
      "cell_type": "markdown",
      "metadata": {
        "id": "CHlSq3zp489o"
      },
      "source": [
        "Observamos que o IC ficou pequeno, isso ocorre por que o tamanho da amostra é grande.\n",
        "\n",
        "Podemos utilizar a distribuição t-Student, e avaliar o quanto ela converge para a distribuição normal quando n é suficientemente grande.\n"
      ]
    },
    {
      "cell_type": "code",
      "metadata": {
        "colab": {
          "base_uri": "https://localhost:8080/"
        },
        "id": "xpp4IRds6vB2",
        "outputId": "12658478-460f-4521-e80f-753ab9ffba1e"
      },
      "source": [
        "IC_Normal_SigmaDesconhecida()"
      ],
      "execution_count": null,
      "outputs": [
        {
          "output_type": "stream",
          "text": [
            "Olá, \n",
            "Este código calcula o intervalo de confiança para a média deuma variável aleatória (VA) \n",
            "no seguinte caso:\n",
            "VA com distribuição normal e variância populacional não conhecida.\n",
            "\n",
            "Digite o grau de confiança desejado em porcentagem: 95\n",
            "Digite a média da amostra: 1000\n",
            "Digite o desvio-padrão amostral: 200\n",
            "Digite o tamanho da amostra: 400\n",
            "\n",
            "O intervalo de confiança de 95.0% é dado por [980.34, 1019.66].\n"
          ],
          "name": "stdout"
        }
      ]
    },
    {
      "cell_type": "markdown",
      "metadata": {
        "id": "eAeGyR-_7DkD"
      },
      "source": [
        "Observamos que os valores de IC estão muitos próximos, diferindo apenas nas casas decimais.\n",
        "IMPORTANTE: a distribuição t fornece valores mais exatos."
      ]
    },
    {
      "cell_type": "markdown",
      "metadata": {
        "id": "A_KFF9L-6R94"
      },
      "source": [
        "---"
      ]
    },
    {
      "cell_type": "markdown",
      "metadata": {
        "id": "aeOME03a6TWw"
      },
      "source": [
        "# Determinação de Tamanho Amostral\n",
        "\n",
        "A determinação do tamanho de uma amostra é um tema complexo e repleto de nuances, consequentemente há métodos adequados a diferentes situações.\n",
        "\n",
        "No momento vamos ater-nos ao seguinte caso:\n",
        "\n",
        ">**Determinação do tamanho de amostra para estimar média populacional, supondo-se que:**\n",
        "*   **será realizada amostragem aleatória simples e com reposição;**\n",
        "*   **a população é suficientemente grande;**\n",
        "\n",
        "Sabemos que o erro **$e$** de uma estimativa é a diferença entre o valor estimado e o real. Para o valor médio, tem-se que:\n",
        "\n",
        "$$ e_{\\bar{x}} \\ = \\ \\bar{x} \\ - \\ \\mu$$ \n",
        "\n",
        "Do intervalo de confiança $\\left[\\ \\bar{x} - z_\\frac{\\alpha}{2} \\frac{S}{\\sqrt{n}},\\ \\bar{x} + z_\\frac{\\alpha}{2} \\frac{S}{\\sqrt{n}}\\right]$, sabemos que:\n",
        "\n",
        "$$e \\ = \\ z_\\frac{\\alpha}{2} \\frac{S}{\\sqrt{n}}$$\n",
        "\n",
        "Logo:\n",
        "$$z_\\frac{\\alpha}{2} \\frac{S}{e} \\ = \\ \\sqrt{n}$$\n",
        "\n",
        "Portanto, para o erro máximo tolerado $e_{max}$, o tamanho da amostra $n$ é dado por :\n",
        "$$\n",
        "n = {\\left(\\frac{z_\\frac{\\alpha}{2} \\sigma}{e_{max}}\\right)}^2\n",
        "$$\n",
        "\n",
        "Repare que o erro máximo, o grau de confiança (necessário para o cálculo de $z$ e o desvio-padrão devem ser determinados pelo pesquisador.\n",
        "\n",
        "Na maioria das situações, a variância populacional é desconhecida, e seu valor precisa ser estimado. Algumas formas de se realizar esta estimativa são:\n",
        "\n",
        "*   através de estudos similares;\n",
        "*   através de dados históricos;\n",
        "*   realização de amostragem piloto.\n"
      ]
    },
    {
      "cell_type": "code",
      "metadata": {
        "colab": {
          "base_uri": "https://localhost:8080/"
        },
        "id": "qfgpqGv2s1an",
        "outputId": "682f5fcb-61b4-4ca1-b6de-1bf90565d862"
      },
      "source": [
        "def Tamanho_Amostra():\n",
        "\n",
        "  print(\n",
        "  'Olá, \\nEste código calcula o tamanho de amostra, para qualquer que seja o'\n",
        "  '\\ntamanho da população.\\n'\n",
        "  'É necessário fornecer o erro máximo admíssivel, o grau de confiança, e um \\n'\n",
        "  'valor estimado para o desvio padrão. \\n'\n",
        "  'Na maioria dos casos, o desvio-padrão populacional é desconhecido e precisa'\n",
        "  '\\nser estimado com base em valores obtidos a partir de estudos similares,'\n",
        "  '\\ndados históricos, ou realização de amostragem piloto.'\n",
        "  )\n",
        "  print()\n",
        "  \n",
        "  #variáveis de entrada\n",
        "  grau_conf = float(input(\"Digite o grau de confiança desejado em porcentagem: \"))\n",
        "  desvpad = float(input ('Digite o desvio-padrão amostral: '))\n",
        "  e_max = (float(input('Digite a margem de erro em porcentagem: ')))/100\n",
        "\n",
        "  #cálculos\n",
        "  alpha_2 = 1 - (1 - (grau_conf/100))/2\n",
        "  z_alpha_2 = ss.norm.ppf(alpha_2)\n",
        "  \n",
        "  n = (((z_alpha_2*desvpad)/e_max)**2).round(2)\n",
        "  \n",
        "  print('Nas condições apresentadas, o tamanho da amostra \"n\" é: ', round(n))\n",
        "  \n",
        "Tamanho_Amostra()"
      ],
      "execution_count": 2,
      "outputs": [
        {
          "output_type": "stream",
          "name": "stdout",
          "text": [
            "Olá, \n",
            "Este código calcula o tamanho de amostra, para qualquer que seja o\n",
            "tamanho da população.\n",
            "É necessário fornecer o erro máximo admíssivel, o grau de confiança, e um \n",
            "valor estimado para o desvio padrão. \n",
            "Na maioria dos casos, o desvio-padrão populacional é desconhecido e precisa\n",
            "ser estimado com base em valores obtidos a partir de estudos similares,\n",
            "dados históricos, ou realização de amostragem piloto.\n",
            "\n",
            "Digite o grau de confiança desejado em porcentagem: 95\n",
            "Digite o desvio-padrão amostral: 0.5\n",
            "Digite a margem de erro em porcentagem: 3\n",
            "Nas condições apresentadas, o tamanho da amostra \"n\" é:  1067\n"
          ]
        }
      ]
    },
    {
      "cell_type": "markdown",
      "metadata": {
        "id": "e1owk_oib_9R"
      },
      "source": [
        "##Majorando o valor da variância\n",
        "\n",
        "Peguemos o exemplo de uma pesquisa de intenção de votos. Podemos considerar que o evento de votar num determinado candidato é um evento de Bernoulli: Vota no candidato A, ou Não vota no candidato A (vota em outros candidatos).\n",
        "\n",
        "Para um experimento do tipo Bernoulli, a variância em função da probabilidade é descrita pelo gráfico abaixo.\n",
        "\n",
        "![image.png](data:image/png;base64,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)\n",
        "\n",
        "Observe que os menores valores de variância $(\\sigma)^2$ ocorrem quando a probabilidade é muito baixa ou muito alta. \n",
        "\n",
        "Se $p = 1$, então 100% das pessoas votam em A, logo qualquer que seja minha amostra, ela sempre será composta por 100% de votantes em A. O raciocínio é o mesmo para $p = 0$.\n",
        "Por outro lado, valores intermediários de $p$ representam uma mistura intermediária de votantes e não vontantes em A. Logo, as amostras retiradas apresentarão maior variabilidade, e a máxima variabilidade ocorre para $p = 0,5$. Desta forma podemos calcular o maior valor possível para a variância $(\\sigma)^2$:\n",
        "$$\n",
        "(\\sigma)^2 \\ = \\ p(1 \\ - \\ p)\n",
        "$$\n",
        "\n",
        "$$\n",
        "para \\ p \\ = \\ 0,5; \\ (\\sigma)^2 \\ = \\ 0,25\n",
        "$$ \n",
        "\n",
        "Vamos calcular o tamanho amostral $n$ para $(\\sigma)^2 \\ = \\ 0,25$:"
      ]
    },
    {
      "cell_type": "code",
      "metadata": {
        "colab": {
          "base_uri": "https://localhost:8080/"
        },
        "id": "SWdsPBzzSHZY",
        "outputId": "0027fb65-b486-4f8b-f585-f5380c24c2ca"
      },
      "source": [
        "Tamanho_Amostra()"
      ],
      "execution_count": 6,
      "outputs": [
        {
          "output_type": "stream",
          "name": "stdout",
          "text": [
            "Olá, \n",
            "Este código calcula o tamanho de amostra, para qualquer que seja o\n",
            "tamanho da população.\n",
            "É necessário fornecer o erro máximo admíssivel, o grau de confiança, e um \n",
            "valor estimado para o desvio padrão. \n",
            "Na maioria dos casos, o desvio-padrão populacional é desconhecido e precisa\n",
            "ser estimado com base em valores obtidos a partir de estudos similares,\n",
            "dados históricos, ou realização de amostragem piloto.\n",
            "\n",
            "Digite o grau de confiança desejado em porcentagem: 95\n",
            "Digite o desvio-padrão amostral: 0.5\n",
            "Digite a margem de erro em porcentagem: 2\n",
            "Nas condições apresentadas, o tamanho da amostra \"n\" é:  2401\n"
          ]
        }
      ]
    }
  ]
}